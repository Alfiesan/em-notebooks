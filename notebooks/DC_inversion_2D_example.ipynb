{
 "cells": [
  {
   "cell_type": "code",
   "execution_count": 1,
   "metadata": {},
   "outputs": [],
   "source": [
    "import os\n",
    "import numpy as np\n",
    "import pandas as pd\n",
    "from SimPEG import Mesh, Maps, DC, Utils\n",
    "from pymatsolver import PardisoSolver\n",
    "import matplotlib.pyplot as plt\n",
    "from pylab import hist\n",
    "from matplotlib import colors\n",
    "%matplotlib inline"
   ]
  },
  {
   "cell_type": "markdown",
   "metadata": {},
   "source": [
    "# Running 2D DC inversion using SimPEG\n",
    "\n",
    "## Purpose\n",
    "\n",
    "We demonstrate how 2D line of field DC data can be inverted in SimPEG. The field DC data is from Syscal Pro system and exported to csv format. Follwing eight steps will be illustrated to guide how 2D DC inversion can be run within `SimPEG`. \n",
    "\n",
    "- Step1: Read in DC data in csv format\n",
    "- Step2: Generate `DC.IO` object\n",
    "- Step3: Generate Mapping\n",
    "- Step4: Form `Problem` object for physics\n",
    "- Step5: Set uncertainty for the data\n",
    "- Step6: Set initial model\n",
    "- Step7: Run inversion\n",
    "- Step8: Plot results"
   ]
  },
  {
   "cell_type": "markdown",
   "metadata": {},
   "source": [
    "## Step1: Read in DC data in csv format\n",
    "\n",
    "Example file used here is 'dc_data.csv'. We first load this csv file using `pandas` then input survey information to `DC.IO` object. "
   ]
  },
  {
   "cell_type": "markdown",
   "metadata": {},
   "source": [
    "### Read csv file using `pandas`"
   ]
  },
  {
   "cell_type": "code",
   "execution_count": 2,
   "metadata": {},
   "outputs": [],
   "source": [
    "# Downlaod an example DC data\n",
    "\n",
    "# from SimPEG.Utils.io_utils import download\n",
    "# url = \"https://storage.googleapis.com/simpeg/examples/dc_data.csv\"\n",
    "# fname = download(url, overwrite=True)\n",
    "\n",
    "fname = os.path.sep.join([\"..\", \"data\", \"dc_data.csv\"])"
   ]
  },
  {
   "cell_type": "code",
   "execution_count": 3,
   "metadata": {},
   "outputs": [],
   "source": [
    "# file name\n",
    "# read csv using pandas\n",
    "df = pd.read_csv(fname)\n",
    "# header for ABMN locations\n",
    "header_loc = ['Spa.'+str(i+1) for i in range(4)]\n",
    "# Apparent resistivity\n",
    "header_apprho = df.keys()[6]"
   ]
  },
  {
   "cell_type": "code",
   "execution_count": 4,
   "metadata": {
    "scrolled": false
   },
   "outputs": [
    {
     "data": {
      "text/html": [
       "<div>\n",
       "<style scoped>\n",
       "    .dataframe tbody tr th:only-of-type {\n",
       "        vertical-align: middle;\n",
       "    }\n",
       "\n",
       "    .dataframe tbody tr th {\n",
       "        vertical-align: top;\n",
       "    }\n",
       "\n",
       "    .dataframe thead th {\n",
       "        text-align: right;\n",
       "    }\n",
       "</style>\n",
       "<table border=\"1\" class=\"dataframe\">\n",
       "  <thead>\n",
       "    <tr style=\"text-align: right;\">\n",
       "      <th></th>\n",
       "      <th>Unnamed: 0</th>\n",
       "      <th>Spa.1</th>\n",
       "      <th>Spa.2</th>\n",
       "      <th>Spa.3</th>\n",
       "      <th>Spa.4</th>\n",
       "      <th>Rho</th>\n",
       "      <th>Dev.</th>\n",
       "      <th>M</th>\n",
       "      <th>Sp</th>\n",
       "      <th>Vp</th>\n",
       "      <th>...</th>\n",
       "      <th>Channel</th>\n",
       "      <th>Overload</th>\n",
       "      <th>Tx-Bat</th>\n",
       "      <th>Rx-Bat</th>\n",
       "      <th>Temp.</th>\n",
       "      <th>Gapfiller</th>\n",
       "      <th>Synch</th>\n",
       "      <th>Cole Tau</th>\n",
       "      <th>Cole M</th>\n",
       "      <th>Cole rms</th>\n",
       "    </tr>\n",
       "  </thead>\n",
       "  <tbody>\n",
       "    <tr>\n",
       "      <th>count</th>\n",
       "      <td>0.0</td>\n",
       "      <td>1211.000000</td>\n",
       "      <td>1211.000000</td>\n",
       "      <td>1211.000000</td>\n",
       "      <td>1211.000000</td>\n",
       "      <td>1211.000000</td>\n",
       "      <td>1211.000000</td>\n",
       "      <td>1211.000000</td>\n",
       "      <td>1211.000000</td>\n",
       "      <td>1211.000000</td>\n",
       "      <td>...</td>\n",
       "      <td>1211.000000</td>\n",
       "      <td>1211.0</td>\n",
       "      <td>1211.000000</td>\n",
       "      <td>1211.000000</td>\n",
       "      <td>1211.000000</td>\n",
       "      <td>1211.0</td>\n",
       "      <td>1211.000000</td>\n",
       "      <td>1211.0</td>\n",
       "      <td>1211.0</td>\n",
       "      <td>1211.0</td>\n",
       "    </tr>\n",
       "    <tr>\n",
       "      <th>mean</th>\n",
       "      <td>NaN</td>\n",
       "      <td>214.219653</td>\n",
       "      <td>219.219653</td>\n",
       "      <td>255.780347</td>\n",
       "      <td>260.780347</td>\n",
       "      <td>181.833691</td>\n",
       "      <td>42.542543</td>\n",
       "      <td>34.878596</td>\n",
       "      <td>0.084979</td>\n",
       "      <td>-108.493249</td>\n",
       "      <td>...</td>\n",
       "      <td>4.620149</td>\n",
       "      <td>0.0</td>\n",
       "      <td>11.688489</td>\n",
       "      <td>11.828159</td>\n",
       "      <td>46.093064</td>\n",
       "      <td>0.0</td>\n",
       "      <td>0.145334</td>\n",
       "      <td>0.0</td>\n",
       "      <td>0.0</td>\n",
       "      <td>0.0</td>\n",
       "    </tr>\n",
       "    <tr>\n",
       "      <th>std</th>\n",
       "      <td>NaN</td>\n",
       "      <td>125.705571</td>\n",
       "      <td>125.705571</td>\n",
       "      <td>125.705571</td>\n",
       "      <td>125.705571</td>\n",
       "      <td>157.068458</td>\n",
       "      <td>104.394421</td>\n",
       "      <td>146.461954</td>\n",
       "      <td>142.643142</td>\n",
       "      <td>242.930941</td>\n",
       "      <td>...</td>\n",
       "      <td>2.836490</td>\n",
       "      <td>0.0</td>\n",
       "      <td>0.109590</td>\n",
       "      <td>0.051543</td>\n",
       "      <td>0.667536</td>\n",
       "      <td>0.0</td>\n",
       "      <td>0.352583</td>\n",
       "      <td>0.0</td>\n",
       "      <td>0.0</td>\n",
       "      <td>0.0</td>\n",
       "    </tr>\n",
       "    <tr>\n",
       "      <th>min</th>\n",
       "      <td>NaN</td>\n",
       "      <td>0.000000</td>\n",
       "      <td>5.000000</td>\n",
       "      <td>10.000000</td>\n",
       "      <td>15.000000</td>\n",
       "      <td>-12.080000</td>\n",
       "      <td>0.000000</td>\n",
       "      <td>-163.520000</td>\n",
       "      <td>-549.960000</td>\n",
       "      <td>-2397.696000</td>\n",
       "      <td>...</td>\n",
       "      <td>1.000000</td>\n",
       "      <td>0.0</td>\n",
       "      <td>11.470000</td>\n",
       "      <td>11.620000</td>\n",
       "      <td>44.600000</td>\n",
       "      <td>0.0</td>\n",
       "      <td>0.000000</td>\n",
       "      <td>0.0</td>\n",
       "      <td>0.0</td>\n",
       "      <td>0.0</td>\n",
       "    </tr>\n",
       "    <tr>\n",
       "      <th>25%</th>\n",
       "      <td>NaN</td>\n",
       "      <td>105.000000</td>\n",
       "      <td>110.000000</td>\n",
       "      <td>150.000000</td>\n",
       "      <td>155.000000</td>\n",
       "      <td>71.250000</td>\n",
       "      <td>0.520000</td>\n",
       "      <td>0.175000</td>\n",
       "      <td>-39.945000</td>\n",
       "      <td>-75.698000</td>\n",
       "      <td>...</td>\n",
       "      <td>2.000000</td>\n",
       "      <td>0.0</td>\n",
       "      <td>11.590000</td>\n",
       "      <td>11.800000</td>\n",
       "      <td>45.600000</td>\n",
       "      <td>0.0</td>\n",
       "      <td>0.000000</td>\n",
       "      <td>0.0</td>\n",
       "      <td>0.0</td>\n",
       "      <td>0.0</td>\n",
       "    </tr>\n",
       "    <tr>\n",
       "      <th>50%</th>\n",
       "      <td>NaN</td>\n",
       "      <td>215.000000</td>\n",
       "      <td>220.000000</td>\n",
       "      <td>255.000000</td>\n",
       "      <td>260.000000</td>\n",
       "      <td>139.170000</td>\n",
       "      <td>4.820000</td>\n",
       "      <td>2.030000</td>\n",
       "      <td>-0.910000</td>\n",
       "      <td>-11.334000</td>\n",
       "      <td>...</td>\n",
       "      <td>4.000000</td>\n",
       "      <td>0.0</td>\n",
       "      <td>11.710000</td>\n",
       "      <td>11.850000</td>\n",
       "      <td>46.100000</td>\n",
       "      <td>0.0</td>\n",
       "      <td>0.000000</td>\n",
       "      <td>0.0</td>\n",
       "      <td>0.0</td>\n",
       "      <td>0.0</td>\n",
       "    </tr>\n",
       "    <tr>\n",
       "      <th>75%</th>\n",
       "      <td>NaN</td>\n",
       "      <td>320.000000</td>\n",
       "      <td>325.000000</td>\n",
       "      <td>365.000000</td>\n",
       "      <td>370.000000</td>\n",
       "      <td>254.965000</td>\n",
       "      <td>25.470000</td>\n",
       "      <td>7.965000</td>\n",
       "      <td>38.005000</td>\n",
       "      <td>-2.512500</td>\n",
       "      <td>...</td>\n",
       "      <td>7.000000</td>\n",
       "      <td>0.0</td>\n",
       "      <td>11.800000</td>\n",
       "      <td>11.870000</td>\n",
       "      <td>46.500000</td>\n",
       "      <td>0.0</td>\n",
       "      <td>0.000000</td>\n",
       "      <td>0.0</td>\n",
       "      <td>0.0</td>\n",
       "      <td>0.0</td>\n",
       "    </tr>\n",
       "    <tr>\n",
       "      <th>max</th>\n",
       "      <td>NaN</td>\n",
       "      <td>460.000000</td>\n",
       "      <td>465.000000</td>\n",
       "      <td>470.000000</td>\n",
       "      <td>475.000000</td>\n",
       "      <td>1107.340000</td>\n",
       "      <td>816.490000</td>\n",
       "      <td>999.990000</td>\n",
       "      <td>528.160000</td>\n",
       "      <td>0.143000</td>\n",
       "      <td>...</td>\n",
       "      <td>10.000000</td>\n",
       "      <td>0.0</td>\n",
       "      <td>11.850000</td>\n",
       "      <td>11.920000</td>\n",
       "      <td>48.000000</td>\n",
       "      <td>0.0</td>\n",
       "      <td>1.000000</td>\n",
       "      <td>0.0</td>\n",
       "      <td>0.0</td>\n",
       "      <td>0.0</td>\n",
       "    </tr>\n",
       "  </tbody>\n",
       "</table>\n",
       "<p>8 rows × 78 columns</p>\n",
       "</div>"
      ],
      "text/plain": [
       "       Unnamed: 0        Spa.1        Spa.2        Spa.3        Spa.4  \\\n",
       "count         0.0  1211.000000  1211.000000  1211.000000  1211.000000   \n",
       "mean          NaN   214.219653   219.219653   255.780347   260.780347   \n",
       "std           NaN   125.705571   125.705571   125.705571   125.705571   \n",
       "min           NaN     0.000000     5.000000    10.000000    15.000000   \n",
       "25%           NaN   105.000000   110.000000   150.000000   155.000000   \n",
       "50%           NaN   215.000000   220.000000   255.000000   260.000000   \n",
       "75%           NaN   320.000000   325.000000   365.000000   370.000000   \n",
       "max           NaN   460.000000   465.000000   470.000000   475.000000   \n",
       "\n",
       "              Rho          Dev.          M           Sp           Vp    \\\n",
       "count  1211.000000  1211.000000  1211.000000  1211.000000  1211.000000   \n",
       "mean    181.833691    42.542543    34.878596     0.084979  -108.493249   \n",
       "std     157.068458   104.394421   146.461954   142.643142   242.930941   \n",
       "min     -12.080000     0.000000  -163.520000  -549.960000 -2397.696000   \n",
       "25%      71.250000     0.520000     0.175000   -39.945000   -75.698000   \n",
       "50%     139.170000     4.820000     2.030000    -0.910000   -11.334000   \n",
       "75%     254.965000    25.470000     7.965000    38.005000    -2.512500   \n",
       "max    1107.340000   816.490000   999.990000   528.160000     0.143000   \n",
       "\n",
       "         ...         Channel  Overload       Tx-Bat       Rx-Bat        Temp.  \\\n",
       "count    ...     1211.000000    1211.0  1211.000000  1211.000000  1211.000000   \n",
       "mean     ...        4.620149       0.0    11.688489    11.828159    46.093064   \n",
       "std      ...        2.836490       0.0     0.109590     0.051543     0.667536   \n",
       "min      ...        1.000000       0.0    11.470000    11.620000    44.600000   \n",
       "25%      ...        2.000000       0.0    11.590000    11.800000    45.600000   \n",
       "50%      ...        4.000000       0.0    11.710000    11.850000    46.100000   \n",
       "75%      ...        7.000000       0.0    11.800000    11.870000    46.500000   \n",
       "max      ...       10.000000       0.0    11.850000    11.920000    48.000000   \n",
       "\n",
       "       Gapfiller        Synch  Cole Tau  Cole M  Cole rms  \n",
       "count     1211.0  1211.000000    1211.0  1211.0    1211.0  \n",
       "mean         0.0     0.145334       0.0     0.0       0.0  \n",
       "std          0.0     0.352583       0.0     0.0       0.0  \n",
       "min          0.0     0.000000       0.0     0.0       0.0  \n",
       "25%          0.0     0.000000       0.0     0.0       0.0  \n",
       "50%          0.0     0.000000       0.0     0.0       0.0  \n",
       "75%          0.0     0.000000       0.0     0.0       0.0  \n",
       "max          0.0     1.000000       0.0     0.0       0.0  \n",
       "\n",
       "[8 rows x 78 columns]"
      ]
     },
     "execution_count": 4,
     "metadata": {},
     "output_type": "execute_result"
    }
   ],
   "source": [
    "df.describe()"
   ]
  },
  {
   "cell_type": "markdown",
   "metadata": {},
   "source": [
    "There are a number of columns in the pandas' data frame, `df`. Here we only select ABMN locations and the apparent resistivity, which will be input variabls of `DC.IO` object. "
   ]
  },
  {
   "cell_type": "code",
   "execution_count": 5,
   "metadata": {},
   "outputs": [],
   "source": [
    "# Number of the data\n",
    "ndata = df[header_loc[0]].values.size\n",
    "# ABMN locations\n",
    "a = np.c_[df[header_loc[0]].values, np.zeros(ndata)]\n",
    "b = np.c_[df[header_loc[1]].values, np.zeros(ndata)]\n",
    "m = np.c_[df[header_loc[2]].values, np.zeros(ndata)]\n",
    "n = np.c_[df[header_loc[3]].values, np.zeros(ndata)]\n",
    "# Apparent resistivity\n",
    "apprho = df[header_apprho].values"
   ]
  },
  {
   "cell_type": "markdown",
   "metadata": {},
   "source": [
    "## Step2: Generate `DC.IO` object\n",
    "\n",
    "`DC.IO` will enable us to form `DC survey` and `Mesh` which are required information to run DC simulation. Survey information that we have selected are required to be input to `DC.IO`. Based upon the survey information, 2D mesh will be generated. "
   ]
  },
  {
   "cell_type": "code",
   "execution_count": 6,
   "metadata": {
    "scrolled": false
   },
   "outputs": [
    {
     "name": "stderr",
     "output_type": "stream",
     "text": [
      "/Users/lindseyjh/git/python_symlinks/SimPEG/EM/Static/DC/IODC.py:228: UserWarning: code under construction - API might change in the future\n",
      "  \"code under construction - API might change in the future\"\n"
     ]
    }
   ],
   "source": [
    "# DC.IO object\n",
    "IO = DC.IO()\n",
    "# Generate DC survey using IO object\n",
    "dc_survey = IO.from_ambn_locations_to_survey(\n",
    "    a, b, m, n,\n",
    "    survey_type='dipole-dipole', \n",
    "    data_dc=apprho,\n",
    "    data_dc_type='apparent_resistivity'\n",
    ")"
   ]
  },
  {
   "cell_type": "code",
   "execution_count": 7,
   "metadata": {},
   "outputs": [
    {
     "data": {
      "image/png": "[encoded data removed]",
      "text/plain": [
       "<Figure size 720x360 with 2 Axes>"
      ]
     },
     "metadata": {
      "needs_background": "light"
     },
     "output_type": "display_data"
    }
   ],
   "source": [
    "IO.plotPseudoSection(data_type='apparent_resistivity', scale='linear')"
   ]
  },
  {
   "cell_type": "code",
   "execution_count": 8,
   "metadata": {},
   "outputs": [
    {
     "name": "stderr",
     "output_type": "stream",
     "text": [
      "/Users/lindseyjh/git/python_symlinks/SimPEG/EM/Static/DC/IODC.py:505: UserWarning: dz (1.25 m) is set to dx (2.5 m) / 2\n",
      "  \"dz ({} m) is set to dx ({} m) / {}\".format(dz, dx, 2)\n"
     ]
    }
   ],
   "source": [
    "# Generate 2D tensor mesh \n",
    "mesh, actind = IO.set_mesh(dx=2.5)"
   ]
  },
  {
   "cell_type": "code",
   "execution_count": 9,
   "metadata": {},
   "outputs": [
    {
     "data": {
      "image/png": "[encoded data removed]",
      "text/plain": [
       "<Figure size 720x360 with 1 Axes>"
      ]
     },
     "metadata": {
      "needs_background": "light"
     },
     "output_type": "display_data"
    }
   ],
   "source": [
    "fig, ax = plt.subplots(1,1,figsize=(10, 5))\n",
    "mesh.plotGrid(ax=ax)\n",
    "plt.gca().set_aspect(4)"
   ]
  },
  {
   "cell_type": "markdown",
   "metadata": {},
   "source": [
    "## Step3: Generate Mapping\n",
    "\n",
    "When inverting DC data often inversion model, $m$, differ from the conductivity, $\\sigma$. For instance, often logarithmic conductivity is used as an inversion model:\n",
    "\n",
    "$$ m = log (\\sigma) $$\n",
    "\n",
    "Mapping is an opposite way to think about this, which can be written as \n",
    "\n",
    "$$ \\sigma = \\mathcal{M} (m) $$\n",
    "\n",
    "Thus, the mapping, $\\mathcal{M} (m)$ transform from a model space to a physical property space. Here we use exponential map:\n",
    "\n",
    "$$ \\sigma = exp(m) $$\n",
    "\n",
    "which is equivalent to logarithmic conductivity. "
   ]
  },
  {
   "cell_type": "code",
   "execution_count": 10,
   "metadata": {},
   "outputs": [],
   "source": [
    "# Exponential map\n",
    "sigmaMap = Maps.ExpMap(mesh)"
   ]
  },
  {
   "cell_type": "code",
   "execution_count": 11,
   "metadata": {},
   "outputs": [
    {
     "name": "stdout",
     "output_type": "stream",
     "text": [
      "[-12.51815043 -12.51815043 -12.51815043 ... -12.51815043 -12.51815043\n",
      " -12.51815043]\n"
     ]
    }
   ],
   "source": [
    "print (sigmaMap * np.ones(mesh.nC) * np.log(1./100.))"
   ]
  },
  {
   "cell_type": "markdown",
   "metadata": {},
   "source": [
    "## Step4: Form `Problem` object for physics\n",
    "\n",
    "`Problem` object has a capability to evaluate predicted data, $d^{pred}=F[m]$, for a given model, $m$. \n",
    "Survey information and Mapping are required to evaluate the predicted data. Here we use `DC.Problem2D_N`. Potentials are defined on the nodes and 2.5D formulation is used. "
   ]
  },
  {
   "cell_type": "code",
   "execution_count": 12,
   "metadata": {},
   "outputs": [],
   "source": [
    "# Problem ojbect\n",
    "prob = DC.Problem2D_N(\n",
    "    mesh, sigmaMap=sigmaMap, storeJ=True,\n",
    "    Solver=PardisoSolver\n",
    ")\n",
    "if prob.pair:\n",
    "    prob.unpair()\n",
    "if dc_survey.pair:\n",
    "    dc_survey.unpair()\n",
    "# Paring survey and problem\n",
    "prob.pair(dc_survey)"
   ]
  },
  {
   "cell_type": "markdown",
   "metadata": {},
   "source": [
    "## Step5: Set uncertainty for the data\n",
    "\n",
    "A minimal condition for the DC inversion is making sure finding a model that fits \n",
    "the observed data. Data misfit is often defined as \n",
    "\n",
    "$$ \\phi_d = \\Sigma_{i}^{N}\\Big(\\frac{d^{pred}_i-d^{obs}_i}{\\varepsilon_i}\\Big)^2 $$, \n",
    "\n",
    "where $\\varepsilon_i$ is the uncertainty at $i$-th dataum. We often assign percentage ($\\%$) and floor as uncertainty, which can be written as:\n",
    "\n",
    "$$ \\varepsilon_i = \\% \\ |d^{obs}_i| + floor $$\n",
    "\n",
    "Note that the unit of the data is volatage (V) and hence apparent resistivity need to be converted to voltage. "
   ]
  },
  {
   "cell_type": "code",
   "execution_count": 13,
   "metadata": {},
   "outputs": [
    {
     "data": {
      "text/plain": [
       "Text(0.5, 0, 'Log 10 voltage (V)')"
      ]
     },
     "execution_count": 13,
     "metadata": {},
     "output_type": "execute_result"
    },
    {
     "data": {
      "image/png": "[encoded data removed]",
      "text/plain": [
       "<Figure size 432x288 with 1 Axes>"
      ]
     },
     "metadata": {
      "needs_background": "light"
     },
     "output_type": "display_data"
    }
   ],
   "source": [
    "out = hist(np.log10(abs(IO.voltages)+1e-4), bins=100)\n",
    "plt.xlabel(\"Log 10 voltage (V)\")"
   ]
  },
  {
   "cell_type": "code",
   "execution_count": 14,
   "metadata": {},
   "outputs": [],
   "source": [
    "# Set the observed data as the measured voltage\n",
    "dc_survey.dobs = IO.voltages.copy()\n",
    "# Set percentage as 5%\n",
    "std = 0.05\n",
    "# Set floor as 1e-3 V\n",
    "eps = 1e-3"
   ]
  },
  {
   "cell_type": "markdown",
   "metadata": {},
   "source": [
    "## Step6: Set initial model\n",
    "\n",
    "For any gradient-based inversion setting a reasonable initial model is very important. \n",
    "Here we set an initial model based upon the observed apparent resistivity values. "
   ]
  },
  {
   "cell_type": "code",
   "execution_count": 15,
   "metadata": {},
   "outputs": [
    {
     "data": {
      "text/plain": [
       "Text(0.5, 0, 'Log 10 apparent resistivity')"
      ]
     },
     "execution_count": 15,
     "metadata": {},
     "output_type": "execute_result"
    },
    {
     "data": {
      "image/png": "[encoded data removed]",
      "text/plain": [
       "<Figure size 432x288 with 1 Axes>"
      ]
     },
     "metadata": {
      "needs_background": "light"
     },
     "output_type": "display_data"
    }
   ],
   "source": [
    "out = hist(np.log10(abs(IO.apparent_resistivity)+1e-1), bins=100)\n",
    "plt.xlabel(\"Log 10 apparent resistivity\")"
   ]
  },
  {
   "cell_type": "code",
   "execution_count": 16,
   "metadata": {},
   "outputs": [],
   "source": [
    "m0 = np.ones(mesh.nC) * np.log(1./100.)"
   ]
  },
  {
   "cell_type": "markdown",
   "metadata": {},
   "source": [
    "## Step7: Run inversion\n",
    "\n",
    "In order to run DC inversion, multiple ojbects are required:\n",
    "\n",
    "- `DataMifit`: Data misfit L2\n",
    "- `Regularization`: Tikhonov Style regularization\n",
    "- `Optimization`: Projected Gauss Newtown \n",
    "- `InvProblem`: Statement of the inversion\n",
    "- `Directives`: Conductor of the inversion\n",
    "- `Inversion`: Running inversion\n"
   ]
  },
  {
   "cell_type": "code",
   "execution_count": 17,
   "metadata": {},
   "outputs": [
    {
     "name": "stdout",
     "output_type": "stream",
     "text": [
      "SimPEG.DataMisfit.l2_DataMisfit assigning default std of 5%\n",
      "SimPEG.DataMisfit.l2_DataMisfit assigning default eps of 1e-5 * ||dobs||\n"
     ]
    }
   ],
   "source": [
    "from SimPEG import (DataMisfit, Regularization,\n",
    "                    Optimization, Inversion, InvProblem, Directives)\n",
    "\n",
    "## DataMisfit (L2)\n",
    "dmisfit = DataMisfit.l2_DataMisfit(dc_survey)\n",
    "uncert = abs(dc_survey.dobs.copy()) * std + eps\n",
    "dmisfit.W = 1./uncert\n",
    "\n",
    "## Regularization\n",
    "# Map for a regularization\n",
    "regmap = Maps.IdentityMap(nP=int(actind.sum()))\n",
    "reg = Regularization.Simple(mesh, indActive=actind, mapping=regmap)\n",
    "reg.alpha_s = 1.     \n",
    "reg.alpha_x = 1.\n",
    "reg.alpha_y = 1.\n",
    "# This is for sparse inversion\n",
    "# reg = Regularization.Sparse(mesh, mapping=regmap)        \n",
    "# reg.norms = np.c_[0., 2., 1., 1.]        \n",
    "# reg.gradientType = 'components'\n",
    "# IRLS = Directives.Update_IRLS(maxIRLSiter=15, minGNiter=1)        \n",
    "\n",
    "## Optimization\n",
    "maxIter = 10\n",
    "upper = np.log(1e1)\n",
    "lower = np.log(1e-4)\n",
    "opt = Optimization.ProjectedGNCG(maxIter=maxIter, upper=upper, lower=lower)\n",
    "\n",
    "## InvProblem\n",
    "invProb = InvProblem.BaseInvProblem(dmisfit, reg, opt)\n",
    "\n",
    "## Directives\n",
    "# 1: Initial beta estimation\n",
    "beta0_ratio = 1.\n",
    "betaest = Directives.BetaEstimate_ByEig(beta0_ratio=beta0_ratio)\n",
    "# 2: Beta cooling schedule\n",
    "coolingFactor = 2.\n",
    "coolingRate = 1\n",
    "beta = Directives.BetaSchedule(\n",
    "    coolingFactor=coolingFactor, coolingRate=coolingRate\n",
    ")\n",
    "# 2: Target misfit\n",
    "target = Directives.TargetMisfit()\n",
    "# 4: Save outputs\n",
    "save = Directives.SaveOutputEveryIteration()\n",
    "directiveList = [\n",
    "    beta, betaest, save, target\n",
    "]        \n",
    "# This is for Sparse inversion\n",
    "#         directiveList = [\n",
    "#             beta, betaest, IRLS, save\n",
    "#         ]\n",
    "\n",
    "## Inversion\n",
    "inv = Inversion.BaseInversion(\n",
    "    invProb, directiveList=directiveList, \n",
    ")"
   ]
  },
  {
   "cell_type": "code",
   "execution_count": 18,
   "metadata": {},
   "outputs": [
    {
     "name": "stdout",
     "output_type": "stream",
     "text": [
      "SimPEG.InvProblem will set Regularization.mref to m0.\n",
      "\n",
      "    SimPEG.InvProblem is setting bfgsH0 to the inverse of the eval2Deriv.\n",
      "    ***Done using same Solver and solverOpts as the problem***\n",
      "Compute fields\n",
      "SimPEG.SaveOutputEveryIteration will save your inversion progress as: '###-InversionModel-2019-01-26-16-17.txt'\n",
      "model has any nan: 0\n",
      "=============================== Projected GNCG ===============================\n",
      "  #     beta     phi_d     phi_m       f      |proj(x-g)-x|  LS    Comment   \n",
      "-----------------------------------------------------------------------------\n",
      "x0 has any nan: 0\n",
      "Compute fields\n",
      "   0  9.18e+01  9.01e+05  0.00e+00  9.01e+05    3.02e+02      0              \n",
      "Compute fields\n",
      "   1  4.59e+01  8.59e+04  5.55e+01  8.85e+04    2.55e+02      0              \n",
      "Compute fields\n",
      "   2  2.30e+01  2.36e+04  1.75e+02  2.76e+04    2.18e+02      0   Skip BFGS  \n",
      "Compute fields\n",
      "   3  1.15e+01  1.31e+04  3.47e+02  1.71e+04    1.88e+02      0   Skip BFGS  \n",
      "Compute fields\n",
      "   4  5.74e+00  6.55e+03  6.60e+02  1.03e+04    1.57e+02      0   Skip BFGS  \n",
      "Compute fields\n",
      "   5  2.87e+00  2.40e+03  1.08e+03  5.48e+03    1.27e+02      0   Skip BFGS  \n",
      "Compute fields\n",
      "   6  1.43e+00  1.02e+03  1.37e+03  2.98e+03    8.65e+01      0   Skip BFGS  \n",
      "Compute fields\n",
      "------------------------- STOP! -------------------------\n",
      "1 : |fc-fOld| = 0.0000e+00 <= tolF*(1+|f0|) = 9.0073e+04\n",
      "1 : |xc-x_last| = 4.1752e+00 <= tolX*(1+|x0|) = 3.4777e+01\n",
      "0 : |proj(x-g)-x|    = 8.5321e+01 <= tolG          = 1.0000e-01\n",
      "0 : |proj(x-g)-x|    = 8.5321e+01 <= 1e3*eps       = 1.0000e-02\n",
      "0 : maxIter   =      10    <= iter          =      7\n",
      "------------------------- DONE! -------------------------\n"
     ]
    }
   ],
   "source": [
    "# Run inversion\n",
    "mopt = inv.run(m0)"
   ]
  },
  {
   "cell_type": "markdown",
   "metadata": {},
   "source": [
    "## Step 8: Plot results\n",
    "\n",
    "Here we plot results of the DC inversion. \n",
    "\n",
    "- Recovered 2D conductivity model\n",
    "- Observed and Predicted data\n",
    "- Tikhnov curves"
   ]
  },
  {
   "cell_type": "markdown",
   "metadata": {},
   "source": [
    "### Recovered conductivity model"
   ]
  },
  {
   "cell_type": "code",
   "execution_count": 19,
   "metadata": {},
   "outputs": [],
   "source": [
    "# Transform log conductivity model to conductivity \n",
    "sigma_est = sigmaMap * mopt"
   ]
  },
  {
   "cell_type": "code",
   "execution_count": 20,
   "metadata": {},
   "outputs": [],
   "source": [
    "# Extract Core Mesh and corresponding indices\n",
    "actind_core, mesh_core = Utils.ExtractCoreMesh(IO.xyzlim, mesh)"
   ]
  },
  {
   "cell_type": "code",
   "execution_count": 21,
   "metadata": {},
   "outputs": [
    {
     "data": {
      "image/png": "[encoded data removed]",
      "text/plain": [
       "<Figure size 432x288 with 1 Axes>"
      ]
     },
     "metadata": {
      "needs_background": "light"
     },
     "output_type": "display_data"
    }
   ],
   "source": [
    "mesh_core.plotImage(sigma_est[actind_core], pcolorOpts={'norm':colors.LogNorm(), 'cmap':'jet'}, clim=(1e-3, 1e-1))\n",
    "plt.title(\"Recovered conductivity\")\n",
    "plt.gca().set_aspect(4)"
   ]
  },
  {
   "cell_type": "markdown",
   "metadata": {},
   "source": [
    "### Observed and Predicted data"
   ]
  },
  {
   "cell_type": "code",
   "execution_count": 22,
   "metadata": {},
   "outputs": [
    {
     "data": {
      "text/plain": [
       "<matplotlib.legend.Legend at 0x137f98cc0>"
      ]
     },
     "execution_count": 22,
     "metadata": {},
     "output_type": "execute_result"
    },
    {
     "data": {
      "image/png": "[encoded data removed]",
      "text/plain": [
       "<Figure size 432x288 with 1 Axes>"
      ]
     },
     "metadata": {
      "needs_background": "light"
     },
     "output_type": "display_data"
    }
   ],
   "source": [
    "plt.semilogy(abs(dc_survey.dobs))\n",
    "plt.semilogy(abs(invProb.dpred))\n",
    "plt.legend((\"Observed\", \"Predicted\"))"
   ]
  },
  {
   "cell_type": "markdown",
   "metadata": {},
   "source": [
    "### Tikhnov curves"
   ]
  },
  {
   "cell_type": "code",
   "execution_count": 23,
   "metadata": {},
   "outputs": [
    {
     "data": {
      "image/png": "[encoded data removed]",
      "text/plain": [
       "<Figure size 360x576 with 3 Axes>"
      ]
     },
     "metadata": {
      "needs_background": "light"
     },
     "output_type": "display_data"
    }
   ],
   "source": [
    "save.plot_tikhonov_curves()"
   ]
  },
  {
   "cell_type": "code",
   "execution_count": null,
   "metadata": {},
   "outputs": [],
   "source": []
  }
 ],
 "metadata": {
  "kernelspec": {
   "display_name": "Python 3",
   "language": "python",
   "name": "python3"
  },
  "language_info": {
   "codemirror_mode": {
    "name": "ipython",
    "version": 3
   },
   "file_extension": ".py",
   "mimetype": "text/x-python",
   "name": "python",
   "nbconvert_exporter": "python",
   "pygments_lexer": "ipython3",
   "version": "3.6.6"
  }
 },
 "nbformat": 4,
 "nbformat_minor": 2
}
