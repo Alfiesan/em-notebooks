{
 "cells": [
  {
   "cell_type": "markdown",
   "metadata": {},
   "source": [
    "# EM Notebooks\n",
    "\n",
    "A collection of notebooks that use the electromagnetics (EM) module of [SimPEG](http://simpeg.xyz). Many of these notebooks reproduce examples from [EM GeoSci](http://em.geosci.xyz), an open source “textbook” on applied electromagnetics.\n",
    "\n",
    "If you build upon these notebooks in your work, please cite:\n",
    "\n",
    "- [(Cockett et al., 2015)](http://www.sciencedirect.com/science/article/pii/S009830041530056X): *SimPEG: An open source framework for simulation and gradient based parameter estimation in geophysical applications*\n",
    "- [(Heagy et al., 2016)](https://arxiv.org/abs/1610.00804): *A framework for simulation and inversion in electromagnetics*\n",
    "\n",
    "\n",
    "**Contents**\n",
    "- [harmonic_vmd_sounding_over_sphere.ipynb](notebooks/harmonic_vmd_sounding_over_sphere.ipynb): A cylidrically symmetric mesh is used to compute an FDEM sounding over a conductive sphere"
   ]
  }
 ],
 "metadata": {
  "anaconda-cloud": {},
  "kernelspec": {
   "display_name": "Python [conda root]",
   "language": "python",
   "name": "conda-root-py"
  },
  "language_info": {
   "codemirror_mode": {
    "name": "ipython",
    "version": 2
   },
   "file_extension": ".py",
   "mimetype": "text/x-python",
   "name": "python",
   "nbconvert_exporter": "python",
   "pygments_lexer": "ipython2",
   "version": "2.7.12"
  }
 },
 "nbformat": 4,
 "nbformat_minor": 1
}
