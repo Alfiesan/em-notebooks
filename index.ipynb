{
 "cells": [
  {
   "cell_type": "markdown",
   "metadata": {},
   "source": [
    "# EM Notebooks\n",
    "\n",
    "<img src=\"http://em.geosci.xyz/_images/disc_dipole.png\" align=\"center\" width=60px>\n",
    "\n",
    "A collection of notebooks that use the electromagnetics (EM) module of [SimPEG](http://simpeg.xyz). Many of these notebooks reproduce examples from [EM GeoSci](http://em.geosci.xyz), an open source “textbook” on applied electromagnetics.\n",
    "\n",
    "\n",
    "\n",
    "If you build upon these notebooks in your work, please cite:\n",
    "\n",
    "- [(Cockett et al., 2015)](http://www.sciencedirect.com/science/article/pii/S009830041530056X): *SimPEG: An open source framework for simulation and gradient based parameter estimation in geophysical applications*\n",
    "- [(Heagy et al., 2016)](https://arxiv.org/abs/1610.00804): *A framework for simulation and inversion in electromagnetics*\n",
    "\n",
    "\n",
    "**Contents**\n",
    "- [FDEM_vmd_sounding_over_sphere.ipynb](notebooks/FDEM_vmd_sounding_over_sphere.ipynb): A cylidrically symmetric mesh is used to compute an FDEM sounding over a conductive sphere\n",
    "- [TDEM_vmd_sounding_over_sphere.ipynb](notebooks/TDEM_vmd_sounding_over_sphere.ipynb): A cylidrically symmetric mesh is used to compute an TDEM sounding over a conductive sphere\n",
    "\n",
    "<img src=\"https://raw.githubusercontent.com/simpeg/em_notebooks/master/images/cylsetup.png\" width=40%>\n"
   ]
  },
  {
   "cell_type": "markdown",
   "metadata": {},
   "source": [
    "## About the Notebook\n",
    "\n",
    "This is a [Jupyter Notebook](http://jupyter.org), an interactive computing environment. Each cell is executable code. \n",
    "\n",
    "To use the notebook:\n",
    "- \"Shift + Enter\" runs the code within the cell (so does the forward arrow button near the top of the document)\n",
    "- You can alter variables and re-run cells\n",
    "- If you want to start with a clean slate, restart the Kernel either by going to the top, clicking on Kernel: Restart, or by \"esc + 00\" (if you do this, you will need to re-run the following block of code before running any other cells in the notebook) \n",
    "\n",
    "For further tips, see: http://em.geosci.xyz/apps.html"
   ]
  }
 ],
 "metadata": {
  "anaconda-cloud": {},
  "kernelspec": {
   "display_name": "Python [default]",
   "language": "python",
   "name": "python2"
  },
  "language_info": {
   "codemirror_mode": {
    "name": "ipython",
    "version": 2
   },
   "file_extension": ".py",
   "mimetype": "text/x-python",
   "name": "python",
   "nbconvert_exporter": "python",
   "pygments_lexer": "ipython2",
   "version": "2.7.12"
  }
 },
 "nbformat": 4,
 "nbformat_minor": 1
}
